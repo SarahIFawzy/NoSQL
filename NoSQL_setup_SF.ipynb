{
 "cells": [
  {
   "cell_type": "markdown",
   "id": "9a57c4c6",
   "metadata": {},
   "source": [
    "# Eat Safe, Love"
   ]
  },
  {
   "cell_type": "markdown",
   "id": "064ef857",
   "metadata": {},
   "source": [
    "## Part 1: Database and Jupyter Notebook Set Up"
   ]
  },
  {
   "cell_type": "markdown",
   "id": "664e3c1f",
   "metadata": {},
   "source": [
    "Import the data provided in the `establishments.json` file from your Terminal. Name the database `uk_food` and the collection `establishments`.\n",
    "\n",
    "Within this markdown cell, copy the line of text you used to import the data from your Terminal. This way, future analysts will be able to repeat your process.\n",
    "\n",
    "e.g.: Import the dataset with `mongoimport --type json -d uk_food -c establishments --drop --jsonArray Resources/establishments.json`"
   ]
  },
  {
   "cell_type": "code",
   "execution_count": 1,
   "id": "9693ef89-de90-4332-bece-d91deb2edf38",
   "metadata": {},
   "outputs": [
    {
     "name": "stderr",
     "output_type": "stream",
     "text": [
      "2024-04-24T11:35:29.914-0700\tconnected to: mongodb://localhost/\n",
      "2024-04-24T11:35:29.915-0700\tdropping: uk_food.establishments\n",
      "2024-04-24T11:35:31.959-0700\t39779 document(s) imported successfully. 0 document(s) failed to import.\n"
     ]
    }
   ],
   "source": [
    "!mongoimport --type json -d uk_food -c establishments --drop --jsonArray Resources/establishments.json"
   ]
  },
  {
   "cell_type": "code",
   "execution_count": 2,
   "id": "3ecdd008",
   "metadata": {},
   "outputs": [],
   "source": [
    "# Import dependencies\n",
    "from pymongo import MongoClient\n",
    "from pprint import pprint"
   ]
  },
  {
   "cell_type": "code",
   "execution_count": 3,
   "id": "59390c4a",
   "metadata": {},
   "outputs": [],
   "source": [
    "# Create an instance of MongoClient\n",
    "mongo = MongoClient(port=27017)"
   ]
  },
  {
   "cell_type": "code",
   "execution_count": 4,
   "id": "7f9ececa",
   "metadata": {},
   "outputs": [
    {
     "name": "stdout",
     "output_type": "stream",
     "text": [
      "['admin', 'autosaurus', 'classDB', 'config', 'epa', 'local', 'met', 'uk_food']\n"
     ]
    }
   ],
   "source": [
    "# confirm that our new database was created\n",
    "print(mongo.list_database_names())"
   ]
  },
  {
   "cell_type": "code",
   "execution_count": 5,
   "id": "71e373c1",
   "metadata": {},
   "outputs": [],
   "source": [
    "# assign the uk_food database to a variable name\n",
    "db = mongo['uk_food']"
   ]
  },
  {
   "cell_type": "code",
   "execution_count": 6,
   "id": "ef1b89ed",
   "metadata": {},
   "outputs": [
    {
     "name": "stdout",
     "output_type": "stream",
     "text": [
      "['establishments']\n"
     ]
    }
   ],
   "source": [
    "# review the collections in our new database\n",
    "print(db.list_collection_names())"
   ]
  },
  {
   "cell_type": "code",
   "execution_count": 7,
   "id": "6a0d92df",
   "metadata": {},
   "outputs": [
    {
     "name": "stdout",
     "output_type": "stream",
     "text": [
      "{ 'AddressLine1': 'The Bay',\n",
      "  'AddressLine2': 'St Margarets Bay',\n",
      "  'AddressLine3': 'Kent',\n",
      "  'AddressLine4': '',\n",
      "  'BusinessName': 'Refreshment Kiosk',\n",
      "  'BusinessType': 'Restaurant/Cafe/Canteen',\n",
      "  'BusinessTypeID': 1,\n",
      "  'ChangesByServerID': 0,\n",
      "  'Distance': 4587.347174863443,\n",
      "  'FHRSID': 254719,\n",
      "  'LocalAuthorityBusinessID': 'PI/000069980',\n",
      "  'LocalAuthorityCode': '182',\n",
      "  'LocalAuthorityEmailAddress': 'publicprotection@dover.gov.uk',\n",
      "  'LocalAuthorityName': 'Dover',\n",
      "  'LocalAuthorityWebSite': 'http://www.dover.gov.uk/',\n",
      "  'NewRatingPending': False,\n",
      "  'Phone': '',\n",
      "  'PostCode': 'CT15 6DY',\n",
      "  'RatingDate': '2022-03-24T00:00:00',\n",
      "  'RatingKey': 'fhrs_5_en-gb',\n",
      "  'RatingValue': '5',\n",
      "  'RightToReply': '',\n",
      "  'SchemeType': 'FHRS',\n",
      "  '_id': ObjectId('662950f1099487a63055f89d'),\n",
      "  'geocode': {'latitude': '51.152225', 'longitude': '1.387974'},\n",
      "  'links': [ { 'href': 'https://api.ratings.food.gov.uk/establishments/254719',\n",
      "               'rel': 'self'}],\n",
      "  'meta': { 'dataSource': None,\n",
      "            'extractDate': '0001-01-01T00:00:00',\n",
      "            'itemCount': 0,\n",
      "            'pageNumber': 0,\n",
      "            'pageSize': 0,\n",
      "            'returncode': None,\n",
      "            'totalCount': 0,\n",
      "            'totalPages': 0},\n",
      "  'scores': {'ConfidenceInManagement': 5, 'Hygiene': 0, 'Structural': 5}}\n"
     ]
    }
   ],
   "source": [
    "# review a document in the establishments collection\n",
    "pprint(db.establishments.find_one(), indent=2)"
   ]
  },
  {
   "cell_type": "code",
   "execution_count": 8,
   "id": "11c9f11b",
   "metadata": {},
   "outputs": [],
   "source": [
    "# assign the collection to a variable\n",
    "establishments = db['establishments']"
   ]
  },
  {
   "cell_type": "markdown",
   "id": "d5671434",
   "metadata": {},
   "source": [
    "## Part 2: Update the Database"
   ]
  },
  {
   "cell_type": "markdown",
   "id": "314bd884",
   "metadata": {},
   "source": [
    "1. An exciting new halal restaurant just opened in Greenwich, but hasn't been rated yet. The magazine has asked you to include it in your analysis. Add the following restaurant \"Penang Flavours\" to the database."
   ]
  },
  {
   "cell_type": "code",
   "execution_count": 9,
   "id": "c2da7648",
   "metadata": {},
   "outputs": [],
   "source": [
    "# Create a dictionary for the new restaurant data\n",
    "item_to_add = {\n",
    "    \"BusinessName\":\"Penang Flavours\",\n",
    "    \"BusinessType\":\"Restaurant/Cafe/Canteen\",\n",
    "    \"BusinessTypeID\":\"\",\n",
    "    \"AddressLine1\":\"Penang Flavours\",\n",
    "    \"AddressLine2\":\"146A Plumstead Rd\",\n",
    "    \"AddressLine3\":\"London\",\n",
    "    \"AddressLine4\":\"\",\n",
    "    \"PostCode\":\"SE18 7DY\",\n",
    "    \"Phone\":\"\",\n",
    "    \"LocalAuthorityCode\":\"511\",\n",
    "    \"LocalAuthorityName\":\"Greenwich\",\n",
    "    \"LocalAuthorityWebSite\":\"http://www.royalgreenwich.gov.uk\",\n",
    "    \"LocalAuthorityEmailAddress\":\"health@royalgreenwich.gov.uk\",\n",
    "    \"scores\":{\n",
    "        \"Hygiene\":\"\",\n",
    "        \"Structural\":\"\",\n",
    "        \"ConfidenceInManagement\":\"\"\n",
    "    },\n",
    "    \"SchemeType\":\"FHRS\",\n",
    "    \"geocode\":{\n",
    "        \"longitude\":\"0.08384000\",\n",
    "        \"latitude\":\"51.49014200\"\n",
    "    },\n",
    "    \"RightToReply\":\"\",\n",
    "    \"Distance\":4623.9723280747176,\n",
    "    \"NewRatingPending\":True\n",
    "              }"
   ]
  },
  {
   "cell_type": "code",
   "execution_count": 10,
   "id": "a6e5cece",
   "metadata": {},
   "outputs": [
    {
     "data": {
      "text/plain": [
       "<pymongo.results.InsertOneResult at 0x163f08a4900>"
      ]
     },
     "execution_count": 10,
     "metadata": {},
     "output_type": "execute_result"
    }
   ],
   "source": [
    "# Insert the new restaurant into the collection\n",
    "establishments.insert_one(item_to_add)"
   ]
  },
  {
   "cell_type": "code",
   "execution_count": 11,
   "id": "63bb10f9",
   "metadata": {},
   "outputs": [
    {
     "data": {
      "text/plain": [
       "{'_id': ObjectId('66295106b40f7d1e708334fa'),\n",
       " 'BusinessName': 'Penang Flavours',\n",
       " 'BusinessType': 'Restaurant/Cafe/Canteen',\n",
       " 'BusinessTypeID': '',\n",
       " 'AddressLine1': 'Penang Flavours',\n",
       " 'AddressLine2': '146A Plumstead Rd',\n",
       " 'AddressLine3': 'London',\n",
       " 'AddressLine4': '',\n",
       " 'PostCode': 'SE18 7DY',\n",
       " 'Phone': '',\n",
       " 'LocalAuthorityCode': '511',\n",
       " 'LocalAuthorityName': 'Greenwich',\n",
       " 'LocalAuthorityWebSite': 'http://www.royalgreenwich.gov.uk',\n",
       " 'LocalAuthorityEmailAddress': 'health@royalgreenwich.gov.uk',\n",
       " 'scores': {'Hygiene': '', 'Structural': '', 'ConfidenceInManagement': ''},\n",
       " 'SchemeType': 'FHRS',\n",
       " 'geocode': {'longitude': '0.08384000', 'latitude': '51.49014200'},\n",
       " 'RightToReply': '',\n",
       " 'Distance': 4623.972328074718,\n",
       " 'NewRatingPending': True}"
      ]
     },
     "execution_count": 11,
     "metadata": {},
     "output_type": "execute_result"
    }
   ],
   "source": [
    "# Check that the new restaurant was inserted\n",
    "establishments.find_one({'BusinessName':'Penang Flavours'})"
   ]
  },
  {
   "cell_type": "markdown",
   "id": "0ef4395a",
   "metadata": {},
   "source": [
    "2. Find the BusinessTypeID for \"Restaurant/Cafe/Canteen\" and return only the `BusinessTypeID` and `BusinessType` fields."
   ]
  },
  {
   "cell_type": "code",
   "execution_count": 12,
   "id": "93c63829",
   "metadata": {},
   "outputs": [
    {
     "name": "stdout",
     "output_type": "stream",
     "text": [
      "[{'BusinessType': 'Restaurant/Cafe/Canteen',\n",
      "  'BusinessTypeID': 1,\n",
      "  '_id': ObjectId('662950f1099487a63055f89d')},\n",
      " {'BusinessType': 'Restaurant/Cafe/Canteen',\n",
      "  'BusinessTypeID': 1,\n",
      "  '_id': ObjectId('662950f1099487a63055f8a2')},\n",
      " {'BusinessType': 'Restaurant/Cafe/Canteen',\n",
      "  'BusinessTypeID': 1,\n",
      "  '_id': ObjectId('662950f1099487a63055f8a3')},\n",
      " {'BusinessType': 'Restaurant/Cafe/Canteen',\n",
      "  'BusinessTypeID': 1,\n",
      "  '_id': ObjectId('662950f1099487a63055f8a4')},\n",
      " {'BusinessType': 'Restaurant/Cafe/Canteen',\n",
      "  'BusinessTypeID': 1,\n",
      "  '_id': ObjectId('662950f1099487a63055f8a5')}]\n"
     ]
    }
   ],
   "source": [
    "# Find the BusinessTypeID for \"Restaurant/Cafe/Canteen\" and return only the BusinessTypeID and BusinessType fields\n",
    "query = {'BusinessType': 'Restaurant/Cafe/Canteen'}\n",
    "fields = {'BusinessTypeID': 1, 'BusinessType': 1}\n",
    "limit = 5\n",
    "\n",
    "Rest_BusinessID = list(establishments.find(query,fields).limit(limit))\n",
    "pprint(Rest_BusinessID)"
   ]
  },
  {
   "cell_type": "markdown",
   "id": "4e570caf",
   "metadata": {},
   "source": [
    "3. Update the new restaurant with the `BusinessTypeID` you found."
   ]
  },
  {
   "cell_type": "code",
   "execution_count": 13,
   "id": "7f599f3d",
   "metadata": {},
   "outputs": [
    {
     "data": {
      "text/plain": [
       "<pymongo.results.UpdateResult at 0x163f08acec0>"
      ]
     },
     "execution_count": 13,
     "metadata": {},
     "output_type": "execute_result"
    }
   ],
   "source": [
    "# Update the new restaurant with the correct BusinessTypeID\n",
    "establishments.update_one(\n",
    "    {'BusinessName':'Penang Flavours'},\n",
    "    {'$set': {'BusinessType': 'Restaurant/Cafe/Canteen',\n",
    "             'BusinessTypeID': 1\n",
    "             }\n",
    "    })"
   ]
  },
  {
   "cell_type": "code",
   "execution_count": 14,
   "id": "a6ad16f7",
   "metadata": {},
   "outputs": [
    {
     "data": {
      "text/plain": [
       "{'_id': ObjectId('66295106b40f7d1e708334fa'),\n",
       " 'BusinessName': 'Penang Flavours',\n",
       " 'BusinessType': 'Restaurant/Cafe/Canteen',\n",
       " 'BusinessTypeID': 1,\n",
       " 'AddressLine1': 'Penang Flavours',\n",
       " 'AddressLine2': '146A Plumstead Rd',\n",
       " 'AddressLine3': 'London',\n",
       " 'AddressLine4': '',\n",
       " 'PostCode': 'SE18 7DY',\n",
       " 'Phone': '',\n",
       " 'LocalAuthorityCode': '511',\n",
       " 'LocalAuthorityName': 'Greenwich',\n",
       " 'LocalAuthorityWebSite': 'http://www.royalgreenwich.gov.uk',\n",
       " 'LocalAuthorityEmailAddress': 'health@royalgreenwich.gov.uk',\n",
       " 'scores': {'Hygiene': '', 'Structural': '', 'ConfidenceInManagement': ''},\n",
       " 'SchemeType': 'FHRS',\n",
       " 'geocode': {'longitude': '0.08384000', 'latitude': '51.49014200'},\n",
       " 'RightToReply': '',\n",
       " 'Distance': 4623.972328074718,\n",
       " 'NewRatingPending': True}"
      ]
     },
     "execution_count": 14,
     "metadata": {},
     "output_type": "execute_result"
    }
   ],
   "source": [
    "# Confirm that the new restaurant was updated\n",
    "establishments.find_one({'BusinessName':'Penang Flavours'})"
   ]
  },
  {
   "cell_type": "markdown",
   "id": "67281254",
   "metadata": {},
   "source": [
    "4. The magazine is not interested in any establishments in Dover, so check how many documents contain the Dover Local Authority. Then, remove any establishments within the Dover Local Authority from the database, and check the number of documents to ensure they were deleted."
   ]
  },
  {
   "cell_type": "code",
   "execution_count": 15,
   "id": "768474a6",
   "metadata": {},
   "outputs": [
    {
     "data": {
      "text/plain": [
       "994"
      ]
     },
     "execution_count": 15,
     "metadata": {},
     "output_type": "execute_result"
    }
   ],
   "source": [
    "# Find how many documents have LocalAuthorityName as \"Dover\"\n",
    "Dover = establishments.count_documents({'LocalAuthorityName':'Dover'})\n",
    "Dover"
   ]
  },
  {
   "cell_type": "code",
   "execution_count": 16,
   "id": "a11d5f1b",
   "metadata": {},
   "outputs": [
    {
     "data": {
      "text/plain": [
       "<pymongo.results.DeleteResult at 0x163f08af0c0>"
      ]
     },
     "execution_count": 16,
     "metadata": {},
     "output_type": "execute_result"
    }
   ],
   "source": [
    "# Delete all documents where LocalAuthorityName is \"Dover\"\n",
    "# 39779 documents before deletion\n",
    "establishments.delete_many({'LocalAuthorityName':'Dover'})"
   ]
  },
  {
   "cell_type": "code",
   "execution_count": 17,
   "id": "5d85748c-a75a-4526-83c2-2cfb2dbc9eaa",
   "metadata": {},
   "outputs": [
    {
     "data": {
      "text/plain": [
       "38786"
      ]
     },
     "execution_count": 17,
     "metadata": {},
     "output_type": "execute_result"
    }
   ],
   "source": [
    "establishments.count_documents({})"
   ]
  },
  {
   "cell_type": "code",
   "execution_count": 18,
   "id": "2a51aba0",
   "metadata": {},
   "outputs": [
    {
     "data": {
      "text/plain": [
       "0"
      ]
     },
     "execution_count": 18,
     "metadata": {},
     "output_type": "execute_result"
    }
   ],
   "source": [
    "# Check if any remaining documents include Dover\n",
    "establishments.count_documents({'LocalAuthorityName':'Dover'})"
   ]
  },
  {
   "cell_type": "code",
   "execution_count": 19,
   "id": "8c356f7b",
   "metadata": {},
   "outputs": [
    {
     "data": {
      "text/plain": [
       "{'_id': ObjectId('662950f1099487a63055fb82'),\n",
       " 'FHRSID': 647177,\n",
       " 'ChangesByServerID': 0,\n",
       " 'LocalAuthorityBusinessID': 'PI/000041489',\n",
       " 'BusinessName': 'Wear Bay Bowls Club',\n",
       " 'BusinessType': 'Pub/bar/nightclub',\n",
       " 'BusinessTypeID': 7843,\n",
       " 'AddressLine1': 'Wear Bay Road',\n",
       " 'AddressLine2': 'Folkestone',\n",
       " 'AddressLine3': 'Kent',\n",
       " 'AddressLine4': '',\n",
       " 'PostCode': 'CT19 6PY',\n",
       " 'Phone': '',\n",
       " 'RatingValue': '4',\n",
       " 'RatingKey': 'fhrs_4_en-gb',\n",
       " 'RatingDate': '2014-03-31T00:00:00',\n",
       " 'LocalAuthorityCode': '188',\n",
       " 'LocalAuthorityName': 'Folkestone and Hythe',\n",
       " 'LocalAuthorityWebSite': 'http://www.folkestone-hythe.gov.uk',\n",
       " 'LocalAuthorityEmailAddress': 'foodteam@folkestone-hythe.gov.uk',\n",
       " 'scores': {'Hygiene': 5, 'Structural': 5, 'ConfidenceInManagement': 10},\n",
       " 'SchemeType': 'FHRS',\n",
       " 'geocode': {'longitude': '1.196408', 'latitude': '51.086058'},\n",
       " 'RightToReply': '',\n",
       " 'Distance': 4591.821311183521,\n",
       " 'NewRatingPending': False,\n",
       " 'meta': {'dataSource': None,\n",
       "  'extractDate': '0001-01-01T00:00:00',\n",
       "  'itemCount': 0,\n",
       "  'returncode': None,\n",
       "  'totalCount': 0,\n",
       "  'totalPages': 0,\n",
       "  'pageSize': 0,\n",
       "  'pageNumber': 0},\n",
       " 'links': [{'rel': 'self',\n",
       "   'href': 'https://api.ratings.food.gov.uk/establishments/647177'}]}"
      ]
     },
     "execution_count": 19,
     "metadata": {},
     "output_type": "execute_result"
    }
   ],
   "source": [
    "# Check that other documents remain with 'find_one'\n",
    "establishments.find_one()"
   ]
  },
  {
   "attachments": {},
   "cell_type": "markdown",
   "id": "e9f1662d",
   "metadata": {},
   "source": [
    "5. Some of the number values are stored as strings, when they should be stored as numbers."
   ]
  },
  {
   "attachments": {},
   "cell_type": "markdown",
   "id": "c46df2df",
   "metadata": {},
   "source": [
    "Use `update_many` to convert `latitude` and `longitude` to decimal numbers."
   ]
  },
  {
   "cell_type": "code",
   "execution_count": 20,
   "id": "37a42495-b478-4d9a-ba6e-de11249fe355",
   "metadata": {},
   "outputs": [
    {
     "name": "stdout",
     "output_type": "stream",
     "text": [
      "Field: _id, Data Type: <class 'bson.objectid.ObjectId'>, Value: 662950f1099487a63055fb82\n",
      "Field: FHRSID, Data Type: <class 'int'>, Value: 647177\n",
      "Field: ChangesByServerID, Data Type: <class 'int'>, Value: 0\n",
      "Field: LocalAuthorityBusinessID, Data Type: <class 'str'>, Value: PI/000041489\n",
      "Field: BusinessName, Data Type: <class 'str'>, Value: Wear Bay Bowls Club\n",
      "Field: BusinessType, Data Type: <class 'str'>, Value: Pub/bar/nightclub\n",
      "Field: BusinessTypeID, Data Type: <class 'int'>, Value: 7843\n",
      "Field: AddressLine1, Data Type: <class 'str'>, Value: Wear Bay Road\n",
      "Field: AddressLine2, Data Type: <class 'str'>, Value: Folkestone\n",
      "Field: AddressLine3, Data Type: <class 'str'>, Value: Kent\n",
      "Field: AddressLine4, Data Type: <class 'str'>, Value: \n",
      "Field: PostCode, Data Type: <class 'str'>, Value: CT19 6PY\n",
      "Field: Phone, Data Type: <class 'str'>, Value: \n",
      "Field: RatingValue, Data Type: <class 'str'>, Value: 4\n",
      "Field: RatingKey, Data Type: <class 'str'>, Value: fhrs_4_en-gb\n",
      "Field: RatingDate, Data Type: <class 'str'>, Value: 2014-03-31T00:00:00\n",
      "Field: LocalAuthorityCode, Data Type: <class 'str'>, Value: 188\n",
      "Field: LocalAuthorityName, Data Type: <class 'str'>, Value: Folkestone and Hythe\n",
      "Field: LocalAuthorityWebSite, Data Type: <class 'str'>, Value: http://www.folkestone-hythe.gov.uk\n",
      "Field: LocalAuthorityEmailAddress, Data Type: <class 'str'>, Value: foodteam@folkestone-hythe.gov.uk\n",
      "Field: scores, Data Type: <class 'dict'>\n",
      "  Subfield: Hygiene, Data Type: <class 'int'>, Value: 5\n",
      "  Subfield: Structural, Data Type: <class 'int'>, Value: 5\n",
      "  Subfield: ConfidenceInManagement, Data Type: <class 'int'>, Value: 10\n",
      "Field: SchemeType, Data Type: <class 'str'>, Value: FHRS\n",
      "Field: geocode, Data Type: <class 'dict'>\n",
      "  Subfield: longitude, Data Type: <class 'str'>, Value: 1.196408\n",
      "  Subfield: latitude, Data Type: <class 'str'>, Value: 51.086058\n",
      "Field: RightToReply, Data Type: <class 'str'>, Value: \n",
      "Field: Distance, Data Type: <class 'float'>, Value: 4591.821311183521\n",
      "Field: NewRatingPending, Data Type: <class 'bool'>, Value: False\n",
      "Field: meta, Data Type: <class 'dict'>\n",
      "  Subfield: dataSource, Data Type: <class 'NoneType'>, Value: None\n",
      "  Subfield: extractDate, Data Type: <class 'str'>, Value: 0001-01-01T00:00:00\n",
      "  Subfield: itemCount, Data Type: <class 'int'>, Value: 0\n",
      "  Subfield: returncode, Data Type: <class 'NoneType'>, Value: None\n",
      "  Subfield: totalCount, Data Type: <class 'int'>, Value: 0\n",
      "  Subfield: totalPages, Data Type: <class 'int'>, Value: 0\n",
      "  Subfield: pageSize, Data Type: <class 'int'>, Value: 0\n",
      "  Subfield: pageNumber, Data Type: <class 'int'>, Value: 0\n",
      "Field: links, Data Type: <class 'list'>, Value: [{'rel': 'self', 'href': 'https://api.ratings.food.gov.uk/establishments/647177'}]\n"
     ]
    }
   ],
   "source": [
    "check = establishments.find_one()\n",
    "for key, value in check.items():\n",
    "    if isinstance(value, dict):\n",
    "        print(f\"Field: {key}, Data Type: {type(value)}\")\n",
    "        for sub_key, sub_value in value.items():\n",
    "            print(f\"  Subfield: {sub_key}, Data Type: {type(sub_value)}, Value: {sub_value}\")\n",
    "    else:\n",
    "        print(f\"Field: {key}, Data Type: {type(value)}, Value: {value}\")"
   ]
  },
  {
   "cell_type": "code",
   "execution_count": 21,
   "id": "fd4112ce",
   "metadata": {},
   "outputs": [
    {
     "data": {
      "text/plain": [
       "<pymongo.results.UpdateResult at 0x163f085a800>"
      ]
     },
     "execution_count": 21,
     "metadata": {},
     "output_type": "execute_result"
    }
   ],
   "source": [
    "# Change the data type from String to Decimal for longitude and latitude\n",
    "\n",
    "establishments.update_many({}, [ {'$set':{ \"geocode.longitude\" : {'$toDecimal': \"$geocode.longitude\"},\n",
    "                                           \"geocode.latitude\" : {'$toDecimal': \"$geocode.latitude\"}\n",
    "                                         }} ])"
   ]
  },
  {
   "attachments": {},
   "cell_type": "markdown",
   "id": "142e319c",
   "metadata": {},
   "source": [
    "Use `update_many` to convert `RatingValue` to integer numbers."
   ]
  },
  {
   "cell_type": "code",
   "execution_count": 22,
   "id": "04430a5b",
   "metadata": {},
   "outputs": [
    {
     "data": {
      "text/plain": [
       "<pymongo.results.UpdateResult at 0x163f08a4940>"
      ]
     },
     "execution_count": 22,
     "metadata": {},
     "output_type": "execute_result"
    }
   ],
   "source": [
    "# Set non 1-5 Rating Values to Null\n",
    "non_ratings = [\"AwaitingInspection\", \"Awaiting Inspection\", \"AwaitingPublication\", \"Pass\", \"Exempt\"]\n",
    "establishments.update_many({\"RatingValue\": {\"$in\": non_ratings}}, [ {'$set':{ \"RatingValue\" : None}} ])"
   ]
  },
  {
   "cell_type": "code",
   "execution_count": 23,
   "id": "92524ccc",
   "metadata": {},
   "outputs": [
    {
     "data": {
      "text/plain": [
       "<pymongo.results.UpdateResult at 0x163f0729880>"
      ]
     },
     "execution_count": 23,
     "metadata": {},
     "output_type": "execute_result"
    }
   ],
   "source": [
    "# Change the data type from String to Integer for RatingValue\n",
    "establishments.update_many({},[{'$set': {'RatingValue': {'$toInt': '$RatingValue'}}}])"
   ]
  },
  {
   "cell_type": "code",
   "execution_count": 25,
   "id": "0deacaf9",
   "metadata": {},
   "outputs": [
    {
     "name": "stdout",
     "output_type": "stream",
     "text": [
      "Field: _id, Data Type: <class 'bson.objectid.ObjectId'>, Value: 662830541d2ce697fe6a8b7d\n",
      "Field: FHRSID, Data Type: <class 'int'>, Value: 1043695\n",
      "Field: ChangesByServerID, Data Type: <class 'int'>, Value: 0\n",
      "Field: LocalAuthorityBusinessID, Data Type: <class 'str'>, Value: PI/000073616\n",
      "Field: BusinessName, Data Type: <class 'str'>, Value: The Pavilion\n",
      "Field: BusinessType, Data Type: <class 'str'>, Value: Restaurant/Cafe/Canteen\n",
      "Field: BusinessTypeID, Data Type: <class 'int'>, Value: 1\n",
      "Field: AddressLine1, Data Type: <class 'str'>, Value: East Cliff Pavilion\n",
      "Field: AddressLine2, Data Type: <class 'str'>, Value: Wear Bay Road\n",
      "Field: AddressLine3, Data Type: <class 'str'>, Value: Folkestone\n",
      "Field: AddressLine4, Data Type: <class 'str'>, Value: Kent\n",
      "Field: PostCode, Data Type: <class 'str'>, Value: CT19 6BL\n",
      "Field: Phone, Data Type: <class 'str'>, Value: \n",
      "Field: RatingValue, Data Type: <class 'int'>, Value: 5\n",
      "Field: RatingKey, Data Type: <class 'str'>, Value: fhrs_5_en-gb\n",
      "Field: RatingDate, Data Type: <class 'str'>, Value: 2018-04-04T00:00:00\n",
      "Field: LocalAuthorityCode, Data Type: <class 'str'>, Value: 188\n",
      "Field: LocalAuthorityName, Data Type: <class 'str'>, Value: Folkestone and Hythe\n",
      "Field: LocalAuthorityWebSite, Data Type: <class 'str'>, Value: http://www.folkestone-hythe.gov.uk\n",
      "Field: LocalAuthorityEmailAddress, Data Type: <class 'str'>, Value: foodteam@folkestone-hythe.gov.uk\n",
      "Field: scores, Data Type: <class 'dict'>\n",
      "  Subfield: Hygiene, Data Type: <class 'int'>, Value: 5\n",
      "  Subfield: Structural, Data Type: <class 'int'>, Value: 5\n",
      "  Subfield: ConfidenceInManagement, Data Type: <class 'int'>, Value: 5\n",
      "Field: SchemeType, Data Type: <class 'str'>, Value: FHRS\n",
      "Field: geocode, Data Type: <class 'dict'>\n",
      "  Subfield: longitude, Data Type: <class 'bson.decimal128.Decimal128'>, Value: 1.195625\n",
      "  Subfield: latitude, Data Type: <class 'bson.decimal128.Decimal128'>, Value: 51.083812\n",
      "Field: RightToReply, Data Type: <class 'str'>, Value: \n",
      "Field: Distance, Data Type: <class 'float'>, Value: 4591.765489457773\n",
      "Field: NewRatingPending, Data Type: <class 'bool'>, Value: False\n",
      "Field: meta, Data Type: <class 'dict'>\n",
      "  Subfield: dataSource, Data Type: <class 'NoneType'>, Value: None\n",
      "  Subfield: extractDate, Data Type: <class 'str'>, Value: 0001-01-01T00:00:00\n",
      "  Subfield: itemCount, Data Type: <class 'int'>, Value: 0\n",
      "  Subfield: returncode, Data Type: <class 'NoneType'>, Value: None\n",
      "  Subfield: totalCount, Data Type: <class 'int'>, Value: 0\n",
      "  Subfield: totalPages, Data Type: <class 'int'>, Value: 0\n",
      "  Subfield: pageSize, Data Type: <class 'int'>, Value: 0\n",
      "  Subfield: pageNumber, Data Type: <class 'int'>, Value: 0\n",
      "Field: links, Data Type: <class 'list'>, Value: [{'rel': 'self', 'href': 'https://api.ratings.food.gov.uk/establishments/1043695'}]\n"
     ]
    }
   ],
   "source": [
    "# Check that the coordinates and rating value are now numbers\n",
    "check = establishments.find_one()\n",
    "for key, value in check.items():\n",
    "    if isinstance(value, dict):\n",
    "        print(f\"Field: {key}, Data Type: {type(value)}\")\n",
    "        for sub_key, sub_value in value.items():\n",
    "            print(f\"  Subfield: {sub_key}, Data Type: {type(sub_value)}, Value: {sub_value}\")\n",
    "    else:\n",
    "        print(f\"Field: {key}, Data Type: {type(value)}, Value: {value}\")"
   ]
  },
  {
   "cell_type": "code",
   "execution_count": null,
   "id": "68114d86-3a1d-4c0d-9a9c-cc23fdfe4797",
   "metadata": {},
   "outputs": [],
   "source": []
  }
 ],
 "metadata": {
  "kernelspec": {
   "display_name": "Python 3 (ipykernel)",
   "language": "python",
   "name": "python3"
  },
  "language_info": {
   "codemirror_mode": {
    "name": "ipython",
    "version": 3
   },
   "file_extension": ".py",
   "mimetype": "text/x-python",
   "name": "python",
   "nbconvert_exporter": "python",
   "pygments_lexer": "ipython3",
   "version": "3.10.13"
  }
 },
 "nbformat": 4,
 "nbformat_minor": 5
}
